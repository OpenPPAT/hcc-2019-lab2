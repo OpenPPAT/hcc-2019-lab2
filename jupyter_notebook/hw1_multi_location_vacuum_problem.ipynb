{
 "cells": [
  {
   "cell_type": "markdown",
   "metadata": {},
   "source": [
    "# HW1 Multi Location Vacuum Problem (60%)\n",
    "Like example 2-1, but we want to add mobility of the vacuum robot to clean the place. By expanding to two dimensional space and up to 9-places, the problem may be more complex.\n",
    "<img src=\"images/hw2-1_multi_location_vacuum_problem.png\">"
   ]
  },
  {
   "cell_type": "markdown",
   "metadata": {},
   "source": [
    "In this question, you need to define the problem by yourself. The problem is limited by following rule:\n",
    "- The vacuum robot agent can go **(Left, Right, Up, Down)** and clean the place by **Sucking** action.\n",
    "- The place can be index 0~8 from left-top to right-bottom.\n",
    "- The goal is that: there is no dirt in all place.\n",
    "- If robot is located on edge of places, the going outside action **is not allowed**.\n",
    "- If robot is located on the clean place, the clean action **is not allowed**.\n"
   ]
  },
  {
   "cell_type": "markdown",
   "metadata": {},
   "source": [
    "## 1. Import python package"
   ]
  },
  {
   "cell_type": "code",
   "execution_count": 1,
   "metadata": {},
   "outputs": [],
   "source": [
    "import math\n",
    "import sys\n",
    "\n",
    "# For some data structure implementation\n",
    "import heapq\n",
    "from collections import defaultdict, deque, Counter"
   ]
  },
  {
   "cell_type": "markdown",
   "metadata": {},
   "source": [
    "## 2. Problem class definition"
   ]
  },
  {
   "cell_type": "code",
   "execution_count": 2,
   "metadata": {},
   "outputs": [],
   "source": [
    "class Problem(object):\n",
    "    def __init__(self, initial=None, goal=None, **other_keywords):\n",
    "        \"\"\"Specify the initial and goal states.\n",
    "        Subclasses can use other keywords if they want.\"\"\"\n",
    "        self.__dict__.update(initial=initial, goal=goal, **other_keywords) \n",
    "\n",
    "    def actions(self, state):           raise NotImplementedError\n",
    "    def result(self, state, action):    raise NotImplementedError\n",
    "    def is_goal(self, state):           return state == self.goal\n",
    "    def step_cost(self, s, action, s1): return 1\n",
    "    def h(self, node):                  return 0"
   ]
  },
  {
   "cell_type": "markdown",
   "metadata": {},
   "source": [
    "## 3. Node definition"
   ]
  },
  {
   "cell_type": "code",
   "execution_count": 3,
   "metadata": {},
   "outputs": [],
   "source": [
    "class Node:\n",
    "    '''A Node in a search tree.'''\n",
    "    def __init__(self, state, parent=None, action=None, path_cost=0):\n",
    "        # __dict__ store this object's all attributes\n",
    "        self.__dict__.update(state=state, parent=parent, action=action, path_cost=path_cost)\n",
    "    \n",
    "    '''All Reserve words are not introduced here. If you are interest in them, please Google them'''\n",
    "    # __repr__ is a built-in function used to compute the '''official''' string reputation of an object.\n",
    "    def __repr__(self): return '<{}>'.format(self.state)\n",
    "    def __len__(self): return 0 if self.parent is None else (1 + len(self.parent))\n",
    "    def __lt__(self, other): return self.state < other.state\n",
    "    \n",
    "failure = Node('failure', path_cost=math.inf) # Indicates an algorithm couldn't find a solution.\n",
    "cutoff  = Node('cutoff',  path_cost=math.inf) # Indicates iterative deeepening search was cut off.\n",
    "\n",
    "def expand(problem, node):\n",
    "    '''Expand a node, generating the children nodes.'''\n",
    "    s = node.state\n",
    "    for action in problem.actions(s): \n",
    "        s1 = problem.result(s, action)\n",
    "        cost = node.path_cost + problem.step_cost(s, action, s1)\n",
    "        yield Node(s1, node, action, cost)\n",
    "        \n",
    "\n",
    "def path_actions(node):\n",
    "    '''The sequence of actions to get to this node.'''\n",
    "    if node.parent is None:\n",
    "        return []\n",
    "    else: \n",
    "        return path_actions(node.parent) + [node.action]\n",
    "\n",
    "\n",
    "def path_states(node):\n",
    "    '''The sequence of states to get to this node.'''\n",
    "    if node.parent is None:\n",
    "        return ([] + [node.state])\n",
    "    else:\n",
    "        return (path_states(node.parent)) + [node.state]\n",
    "\n",
    "\n",
    "def path(node):\n",
    "    '''Alternating states and actions to get to this node.'''\n",
    "    if node.parent is None:\n",
    "        return ([] + [node.state])\n",
    "    else:\n",
    "        return (path(node.parent) + [node.action] ) + [node.state]"
   ]
  },
  {
   "cell_type": "markdown",
   "metadata": {},
   "source": [
    "## 4. Search Algorithms"
   ]
  },
  {
   "cell_type": "code",
   "execution_count": 4,
   "metadata": {},
   "outputs": [],
   "source": [
    "FIFOQueue = deque\n",
    "LIFOQueue = list\n",
    "\n",
    "def depth_limited_search(problem, limit=9):\n",
    "    \"Search deepest nodes in the search tree first.\"\n",
    "    frontier = LIFOQueue([Node(problem.initial)])\n",
    "    solution = failure\n",
    "    while frontier:\n",
    "        node = frontier.pop()\n",
    "        if len(node) > limit:\n",
    "            solution = cutoff\n",
    "        else:\n",
    "            for child in expand(problem, node):\n",
    "                if problem.is_goal(child.state):\n",
    "                    return child\n",
    "                frontier.append(child)\n",
    "    return solution\n",
    "\n",
    "def breadth_first_search(problem):\n",
    "    \"Search shallowest nodes in the search tree first.\"\n",
    "    frontier = FIFOQueue([Node(problem.initial)])\n",
    "    reached = set()\n",
    "    while frontier:\n",
    "        node = frontier.pop()\n",
    "        if problem.is_goal(node.state):\n",
    "            return node\n",
    "        for child in expand(problem, node):\n",
    "            s = child.state\n",
    "            if s not in reached:\n",
    "                reached.add(s)\n",
    "                frontier.appendleft(child)\n",
    "    return failure\n",
    "        "
   ]
  },
  {
   "cell_type": "code",
   "execution_count": 5,
   "metadata": {},
   "outputs": [],
   "source": [
    "dirt  = '*'\n",
    "clean = ' '\n",
    "\n",
    "class MultiLocationVacuumProblem(Problem):    \n",
    "    def actions(self, state): \n",
    "        '''\n",
    "        \n",
    "        return ???\n",
    "        '''\n",
    "        (loc, *dirt) = state\n",
    "        loc = int(loc)\n",
    "        \n",
    "        action_set = ['L', 'R', 'U', 'D', 'S']\n",
    "        if loc in (0, 3, 6): action_set.remove('L')\n",
    "        if loc in (0, 1, 2): action_set.remove('U')\n",
    "        if loc in (6, 7, 8): action_set.remove('D')\n",
    "        if loc in (2, 5, 8): action_set.remove('R')\n",
    "        if dirt[loc] == clean: action_set.remove('S')\n",
    "        return (tuple(action_set))\n",
    "    \n",
    "    def is_goal(self, state):\n",
    "        return dirt not in state\n",
    "    \n",
    "    def result(self, state, action):   \n",
    "        '''\n",
    "        (loc, dirtL, dirtR) = state\n",
    "        if   action == ???: return ???\n",
    "        elif action == ???: return ???\n",
    "        \n",
    "          \n",
    "        else: raise ValueRrror('unknown action: ' + action)\n",
    "        '''\n",
    "        (loc, *dirt) = state\n",
    "        loc = int(loc)\n",
    "        if action == 'L':\n",
    "            if loc not in (0, 3, 6): loc = loc - 1\n",
    "            return (str(loc), *dirt)\n",
    "        elif action == 'R':\n",
    "            if loc not in (2, 5, 8): loc = loc + 1\n",
    "            return (str(loc), *dirt)\n",
    "        elif action == 'U':\n",
    "            if loc not in (0, 1, 2): loc = loc - 3\n",
    "            return (str(loc), *dirt)\n",
    "        elif action == 'D':\n",
    "            if loc not in (6, 7, 8): loc = loc + 3\n",
    "            return (str(loc), *dirt)\n",
    "        elif action == 'S':\n",
    "            dirt[loc] = clean\n",
    "            return (str(loc), *dirt)\n",
    "        \n",
    "        else: raise ValueError('unknown action: ' + action)\n",
    "        "
   ]
  },
  {
   "cell_type": "code",
   "execution_count": 6,
   "metadata": {},
   "outputs": [
    {
     "name": "stdout",
     "output_type": "stream",
     "text": [
      "(0, '*', ' ', '*', ' ', '*', ' ', '*', ' ', '*')\n"
     ]
    },
    {
     "data": {
      "text/plain": [
       "('3', '*', ' ', '*', ' ', '*', ' ', '*', ' ', '*')"
      ]
     },
     "execution_count": 6,
     "metadata": {},
     "output_type": "execute_result"
    }
   ],
   "source": [
    "initial_state = (0, '*', ' ', '*', ' ', '*', ' ', '*', ' ', '*')\n",
    "\n",
    "\n",
    "p1 = MultiLocationVacuumProblem(initial_state)\n",
    "print(p1.initial)\n",
    "p1.result(p1.initial, 'D')"
   ]
  },
  {
   "cell_type": "code",
   "execution_count": 7,
   "metadata": {},
   "outputs": [
    {
     "data": {
      "text/plain": [
       "[(0, '*', ' ', '*', ' ', '*', ' ', '*', ' ', '*'),\n",
       " ('0', ' ', ' ', '*', ' ', '*', ' ', '*', ' ', '*'),\n",
       " ('1', ' ', ' ', '*', ' ', '*', ' ', '*', ' ', '*'),\n",
       " ('2', ' ', ' ', '*', ' ', '*', ' ', '*', ' ', '*'),\n",
       " ('2', ' ', ' ', ' ', ' ', '*', ' ', '*', ' ', '*'),\n",
       " ('1', ' ', ' ', ' ', ' ', '*', ' ', '*', ' ', '*'),\n",
       " ('4', ' ', ' ', ' ', ' ', '*', ' ', '*', ' ', '*'),\n",
       " ('4', ' ', ' ', ' ', ' ', ' ', ' ', '*', ' ', '*'),\n",
       " ('3', ' ', ' ', ' ', ' ', ' ', ' ', '*', ' ', '*'),\n",
       " ('6', ' ', ' ', ' ', ' ', ' ', ' ', '*', ' ', '*'),\n",
       " ('6', ' ', ' ', ' ', ' ', ' ', ' ', ' ', ' ', '*'),\n",
       " ('7', ' ', ' ', ' ', ' ', ' ', ' ', ' ', ' ', '*'),\n",
       " ('8', ' ', ' ', ' ', ' ', ' ', ' ', ' ', ' ', '*'),\n",
       " ('8', ' ', ' ', ' ', ' ', ' ', ' ', ' ', ' ', ' ')]"
      ]
     },
     "execution_count": 7,
     "metadata": {},
     "output_type": "execute_result"
    }
   ],
   "source": [
    "initial_state = (0, '*', ' ', '*', ' ', '*', ' ', '*', ' ', '*')\n",
    "p1 = MultiLocationVacuumProblem(initial=initial_state)\n",
    "\n",
    "# Apply the DFS on the vacuum problem\n",
    "# result_graph = depth_limited_search(problem=p1, limit=20)\n",
    "result_graph = breadth_first_search(problem=p1)\n",
    "# Take a look the state sequence of the result\n",
    "path_states(result_graph)\n"
   ]
  },
  {
   "cell_type": "code",
   "execution_count": 8,
   "metadata": {},
   "outputs": [
    {
     "data": {
      "text/plain": [
       "[(0, '*', ' ', '*', ' ', '*', ' ', '*', ' ', '*'),\n",
       " 'S',\n",
       " ('0', ' ', ' ', '*', ' ', '*', ' ', '*', ' ', '*'),\n",
       " 'R',\n",
       " ('1', ' ', ' ', '*', ' ', '*', ' ', '*', ' ', '*'),\n",
       " 'R',\n",
       " ('2', ' ', ' ', '*', ' ', '*', ' ', '*', ' ', '*'),\n",
       " 'S',\n",
       " ('2', ' ', ' ', ' ', ' ', '*', ' ', '*', ' ', '*'),\n",
       " 'L',\n",
       " ('1', ' ', ' ', ' ', ' ', '*', ' ', '*', ' ', '*'),\n",
       " 'D',\n",
       " ('4', ' ', ' ', ' ', ' ', '*', ' ', '*', ' ', '*'),\n",
       " 'S',\n",
       " ('4', ' ', ' ', ' ', ' ', ' ', ' ', '*', ' ', '*'),\n",
       " 'L',\n",
       " ('3', ' ', ' ', ' ', ' ', ' ', ' ', '*', ' ', '*'),\n",
       " 'D',\n",
       " ('6', ' ', ' ', ' ', ' ', ' ', ' ', '*', ' ', '*'),\n",
       " 'S',\n",
       " ('6', ' ', ' ', ' ', ' ', ' ', ' ', ' ', ' ', '*'),\n",
       " 'R',\n",
       " ('7', ' ', ' ', ' ', ' ', ' ', ' ', ' ', ' ', '*'),\n",
       " 'R',\n",
       " ('8', ' ', ' ', ' ', ' ', ' ', ' ', ' ', ' ', '*'),\n",
       " 'S',\n",
       " ('8', ' ', ' ', ' ', ' ', ' ', ' ', ' ', ' ', ' ')]"
      ]
     },
     "execution_count": 8,
     "metadata": {},
     "output_type": "execute_result"
    }
   ],
   "source": [
    "path(result_graph)"
   ]
  }
 ],
 "metadata": {
  "kernelspec": {
   "display_name": "Python 3",
   "language": "python",
   "name": "python3"
  },
  "language_info": {
   "codemirror_mode": {
    "name": "ipython",
    "version": 3
   },
   "file_extension": ".py",
   "mimetype": "text/x-python",
   "name": "python",
   "nbconvert_exporter": "python",
   "pygments_lexer": "ipython3",
   "version": "3.6.5"
  }
 },
 "nbformat": 4,
 "nbformat_minor": 2
}
