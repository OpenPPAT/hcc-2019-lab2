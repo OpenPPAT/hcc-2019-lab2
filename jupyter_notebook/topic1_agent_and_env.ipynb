{
 "cells": [
  {
   "cell_type": "markdown",
   "metadata": {},
   "source": [
    "# Topic 1. Agent and Environment"
   ]
  },
  {
   "cell_type": "markdown",
   "metadata": {},
   "source": [
    "# 1-1. Import python package"
   ]
  },
  {
   "cell_type": "code",
   "execution_count": 1,
   "metadata": {},
   "outputs": [],
   "source": [
    "import math\n",
    "import sys"
   ]
  },
  {
   "cell_type": "markdown",
   "metadata": {},
   "source": [
    "# 1-2. Problem abstract class definition\n",
    "For robotic field, we often call an **agent** is anything that can be viewed as perceiving its **environment** through **sensors** and acting upon that environment through **actuators**."
   ]
  },
  {
   "cell_type": "markdown",
   "metadata": {},
   "source": [
    "<img src=\"images/goal_based_reflex_agent.png\" width=\"480px\">"
   ]
  },
  {
   "cell_type": "markdown",
   "metadata": {},
   "source": [
    "We start by defining the abstract class for a `Problem`; specific problem domains will subclass this, and then you can create individual problems with `specific initial states` and `goals`. you can also define a `Node` in a search tree to slove the problem. We will talk it later."
   ]
  },
  {
   "cell_type": "code",
   "execution_count": 2,
   "metadata": {},
   "outputs": [],
   "source": [
    "class Problem(object):\n",
    "    '''The abstract class for a formal problem. You should subclass this,\n",
    "    overriding `actions` and `results`, and other methods if necessary.\n",
    "    Note: a problem can specify a default heuristic if desired. By default, \n",
    "    the heuristic is 0 for all states, and the step cost is 1 for all actions.'''\n",
    "\n",
    "    def __init__(self, initial=None, goal=None, **other_keywords):\n",
    "        '''Specify the initial and goal states.\n",
    "        Subclasses can use other keywords if they want.'''\n",
    "        self.__dict__.update(initial=initial, goal=goal, **other_keywords) \n",
    "\n",
    "    def actions(self, state):\n",
    "        '''Return the actions that can be executed in the given\n",
    "        state. The result would typically be a list, but if there are\n",
    "        many actions, consider yielding them one at a time in an\n",
    "        iterator, rather than building them all at once.'''\n",
    "        raise NotImplementedError\n",
    "        \n",
    "    def result(self, state, action):\n",
    "        '''Return the state that results from executing the given\n",
    "        action in the given state. The action must be one of\n",
    "        self.actions(state).'''\n",
    "        raise NotImplementedError\n",
    "        \n",
    "    def is_goal(self, state):\n",
    "        '''True if the state is a goal.'''\n",
    "        return state == self.goal\n",
    "    \n",
    "    def step_cost(self, state1, action, state2):\n",
    "        '''Return the cost of a solution path that arrives at state2 from\n",
    "        state1 via action. The default method \n",
    "        costs 1 for every step in the path.'''\n",
    "        return 1\n",
    "    \n",
    "    def h(self, node):\n",
    "        '''Return the cost of a solution path that arrives at goal state from\n",
    "        current state. The default value is 0'''\n",
    "        return 0\n",
    "    "
   ]
  },
  {
   "cell_type": "markdown",
   "metadata": {},
   "source": [
    "## Example1-1 problem definition\n",
    "Take example, a Vacuum Robot in a world with two locations, and dirt as shown below. Each state is a tuple of (location, dirt_in_L, dirt_in_R).\n",
    "<img src=\"images/vacuum_problem.jpg\">"
   ]
  },
  {
   "cell_type": "code",
   "execution_count": 3,
   "metadata": {},
   "outputs": [],
   "source": [
    "'''\n",
    "First, we define the state with tuple data type, \n",
    "just like ('L', '*', ' '). It means the vacuum\n",
    "robot is on Left side, the place is dirty on \n",
    "left side and clean on right side.\n",
    "'''\n",
    "\n",
    "dirt  = '*'\n",
    "clean = ' '\n",
    "\n",
    "class TwoLocationVacuumProblem(Problem):    \n",
    "    def actions(self, state): return ('L', 'R', 'S')\n",
    "\n",
    "    def result(self, state, action):\n",
    "        '''The state that results from executing this action in this state. '''      \n",
    "        (loc, dirtL, dirtR) = state\n",
    "        if   action == 'L':                   return ('L', dirtL, dirtR)\n",
    "        elif action == 'R':                   return ('R', dirtL, dirtR)\n",
    "        elif action == 'S' and loc == 'L': return (loc, clean, dirtR)\n",
    "        elif action == 'S' and loc == 'R': return (loc, dirtL, clean) \n",
    "        else: raise ValueError('unknown action: ' + action)"
   ]
  },
  {
   "cell_type": "code",
   "execution_count": 4,
   "metadata": {
    "scrolled": true
   },
   "outputs": [
    {
     "name": "stdout",
     "output_type": "stream",
     "text": [
      "Initial state of the problem:  ('R', '*', '*')\n",
      "Result by excuting the action: ('R', '*', ' ')\n"
     ]
    }
   ],
   "source": [
    "initial_state=('R', '*', '*')\n",
    "p1 = TwoLocationVacuumProblem(initial=initial_state)\n",
    "print('Initial state of the problem:  {}' .format(p1.initial))\n",
    "\n",
    "# Show what's the result from excuting the action 'Suck' in the initial state.\n",
    "result1 = p1.result(state=p1.initial, action=('S'))\n",
    "print('Result by excuting the action: {}' .format(result1))"
   ]
  },
  {
   "cell_type": "markdown",
   "metadata": {},
   "source": [
    "=================================================================================================================="
   ]
  },
  {
   "cell_type": "markdown",
   "metadata": {},
   "source": [
    "# 1-3. Node definition\n",
    "We also ddefine a `Node` in a search tree, and some functions on nodes: `expand` to generate successors, and `path_actions`, `path_states` and `path` to recover aspects of the path from the node."
   ]
  },
  {
   "cell_type": "code",
   "execution_count": 5,
   "metadata": {},
   "outputs": [],
   "source": [
    "class Node:\n",
    "    '''A Node in a search tree.'''\n",
    "    def __init__(self, state, parent=None, action=None, path_cost=0):\n",
    "        # __dict__ store this object's all attributes\n",
    "        self.__dict__.update(state=state, parent=parent, action=action, path_cost=path_cost)\n",
    "    \n",
    "    '''All Reserve words are not introduced here. If you are interest in them, please Google them'''\n",
    "    # __repr__ is a built-in function used to compute the '''official''' string reputation of an object.\n",
    "    def __repr__(self): return '<{}>'.format(self.state)\n",
    "    def __len__(self): return 0 if self.parent is None else (1 + len(self.parent))\n",
    "    def __lt__(self, other): return self.state < other.state\n",
    "    \n",
    "failure = Node('failure', path_cost=math.inf) # Indicates an algorithm couldn't find a solution.\n",
    "cutoff  = Node('cutoff',  path_cost=math.inf) # Indicates iterative deeepening search was cut off.\n",
    "\n",
    "def expand(problem, node):\n",
    "    '''Expand a node, generating the children nodes.'''\n",
    "    s = node.state\n",
    "    for action in problem.actions(s): \n",
    "        s1 = problem.result(s, action)\n",
    "        cost = node.path_cost + problem.step_cost(s, action, s1)\n",
    "        yield Node(s1, node, action, cost)\n",
    "        \n",
    "\n",
    "def path_actions(node):\n",
    "    '''The sequence of actions to get to this node.'''\n",
    "    if node.parent is None:\n",
    "        return []\n",
    "    else: \n",
    "        return path_actions(node.parent) + [node.action]\n",
    "\n",
    "\n",
    "def path_states(node):\n",
    "    '''The sequence of states to get to this node.'''\n",
    "    if node.parent is None:\n",
    "        return ([] + [node.state])\n",
    "    else:\n",
    "        return (path_states(node.parent)) + [node.state]\n",
    "\n",
    "\n",
    "def path(node):\n",
    "    '''Alternating states and actions to get to this node.'''\n",
    "    if node.parent is None:\n",
    "        return ([] + [node.state])\n",
    "    else:\n",
    "        return (path(node.parent) + [node.action] ) + [node.state]"
   ]
  },
  {
   "cell_type": "markdown",
   "metadata": {},
   "source": [
    "## Example1-2 DFS \n",
    "We quicklly define a DFS algorithm with step limitation. "
   ]
  },
  {
   "cell_type": "code",
   "execution_count": 6,
   "metadata": {},
   "outputs": [],
   "source": [
    "def depth_limited_search(problem, limit=5):\n",
    "    '''Search deepest nodes in the search tree first.'''\n",
    "    frontier = list([Node(problem.initial)])\n",
    "    solution = failure\n",
    "    while frontier:\n",
    "        node = frontier.pop()\n",
    "        if len(node) > limit:\n",
    "            solution = cutoff\n",
    "        else:\n",
    "            for child in expand(problem, node):\n",
    "                if problem.is_goal(child.state):\n",
    "                    return child\n",
    "                frontier.append(child)\n",
    "    return solution"
   ]
  },
  {
   "cell_type": "code",
   "execution_count": 7,
   "metadata": {},
   "outputs": [
    {
     "data": {
      "text/plain": [
       "[('R', '*', '*'), ('R', '*', ' '), ('L', '*', ' '), ('L', ' ', ' ')]"
      ]
     },
     "execution_count": 7,
     "metadata": {},
     "output_type": "execute_result"
    }
   ],
   "source": [
    "initial_state=('R', '*', '*')\n",
    "goal_state=('L', ' ', ' ')\n",
    "p1 = TwoLocationVacuumProblem(initial=initial_state, goal=goal_state)\n",
    "\n",
    "# Apply the DFS on the vacuum problem\n",
    "result_graph = depth_limited_search(problem=p1, limit=2)\n",
    "\n",
    "# Take a look the state sequence of the result\n",
    "path_states(result_graph)"
   ]
  },
  {
   "cell_type": "code",
   "execution_count": 8,
   "metadata": {},
   "outputs": [
    {
     "data": {
      "text/plain": [
       "['S', 'L', 'S']"
      ]
     },
     "execution_count": 8,
     "metadata": {},
     "output_type": "execute_result"
    }
   ],
   "source": [
    "# Take a look the action sequence of the result\n",
    "path_actions(result_graph)"
   ]
  }
 ],
 "metadata": {
  "kernelspec": {
   "display_name": "Python 3",
   "language": "python",
   "name": "python3"
  },
  "language_info": {
   "codemirror_mode": {
    "name": "ipython",
    "version": 3
   },
   "file_extension": ".py",
   "mimetype": "text/x-python",
   "name": "python",
   "nbconvert_exporter": "python",
   "pygments_lexer": "ipython3",
   "version": "3.6.5"
  }
 },
 "nbformat": 4,
 "nbformat_minor": 2
}
